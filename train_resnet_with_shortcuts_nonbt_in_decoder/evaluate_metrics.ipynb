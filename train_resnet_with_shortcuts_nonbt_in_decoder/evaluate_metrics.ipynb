{
 "cells": [
  {
   "cell_type": "code",
   "execution_count": 2,
   "metadata": {},
   "outputs": [],
   "source": [
    "import sys\n",
    "sys.path.append('/home/kmouraviev')"
   ]
  },
  {
   "cell_type": "code",
   "execution_count": 3,
   "metadata": {},
   "outputs": [],
   "source": [
    "from tensorflow_resnet.my_batch_normalization import MyBatchNormalization"
   ]
  },
  {
   "cell_type": "code",
   "execution_count": 5,
   "metadata": {},
   "outputs": [],
   "source": [
    "import tensorflow as tf"
   ]
  },
  {
   "cell_type": "code",
   "execution_count": 6,
   "metadata": {},
   "outputs": [],
   "source": [
    "def berhu_loss(labels, predictions, delta=1.0):\n",
    "    error = tf.abs(labels - predictions)\n",
    "    loss = tf.where(error < delta,\n",
    "                    error,\n",
    "                    (error ** 2 + delta ** 2) / (2 * delta)\n",
    "                   )\n",
    "    return tf.reduce_mean(loss)"
   ]
  },
  {
   "cell_type": "code",
   "execution_count": 7,
   "metadata": {},
   "outputs": [],
   "source": [
    "from keras.models import load_model\n",
    "model = load_model('model_on_epoch17.hdf5', custom_objects={'MyBatchNormalization': MyBatchNormalization,\n",
    "                                                            'berhu_loss': berhu_loss})"
   ]
  },
  {
   "cell_type": "code",
   "execution_count": 10,
   "metadata": {},
   "outputs": [],
   "source": [
    "import h5py\n",
    "import numpy as np\n",
    "val_data_file = h5py.File('/home/kmouraviev/NYU_dataset_hdf5/validation_data_different_scenes.hdf5', 'r')\n",
    "rgbs_val = np.array(val_data_file['data'])\n",
    "depths_val = np.array(val_data_file['label'])"
   ]
  },
  {
   "cell_type": "code",
   "execution_count": 11,
   "metadata": {},
   "outputs": [],
   "source": [
    "val_predictions = model.predict(rgbs_val, batch_size=23)"
   ]
  },
  {
   "cell_type": "code",
   "execution_count": 12,
   "metadata": {},
   "outputs": [
    {
     "data": {
      "text/plain": [
       "0.001405624759727017"
      ]
     },
     "execution_count": 12,
     "metadata": {},
     "output_type": "execute_result"
    }
   ],
   "source": [
    "(val_predictions < 0.5).mean()"
   ]
  },
  {
   "cell_type": "code",
   "execution_count": 17,
   "metadata": {
    "scrolled": true
   },
   "outputs": [
    {
     "name": "stdout",
     "output_type": "stream",
     "text": [
      "Absolute error: 0.18907362368374672\n",
      "RMSE: 0.6803062092492703\n"
     ]
    }
   ],
   "source": [
    "print('Absolute error:', np.mean(np.abs(val_predictions[depths_val > 0.5] - \\\n",
    "                                        depths_val[depths_val > 0.5]) / \\\n",
    "                                 depths_val[depths_val > 0.5]))\n",
    "print('RMSE:', np.sqrt(np.mean((val_predictions[depths_val > 0.5] - depths_val[depths_val > 0.5]) ** 2)))"
   ]
  },
  {
   "cell_type": "code",
   "execution_count": 18,
   "metadata": {},
   "outputs": [
    {
     "name": "stdout",
     "output_type": "stream",
     "text": [
      "RMS log: 0.25720508607294706\n"
     ]
    }
   ],
   "source": [
    "our_predictions = val_predictions[depths_val > 0.5]\n",
    "our_gts = depths_val[depths_val > 0.5]\n",
    "print('RMS log:', np.sqrt(np.mean((np.log(our_predictions) - np.log(our_gts)) ** 2)))"
   ]
  },
  {
   "cell_type": "code",
   "execution_count": 19,
   "metadata": {},
   "outputs": [
    {
     "name": "stdout",
     "output_type": "stream",
     "text": [
      "1.0000000000053673 64.98293430754191\n"
     ]
    }
   ],
   "source": [
    "rel_error = np.maximum(our_predictions / our_gts, our_gts / our_predictions)\n",
    "print(rel_error.min(), rel_error.max())"
   ]
  },
  {
   "cell_type": "code",
   "execution_count": 20,
   "metadata": {},
   "outputs": [],
   "source": [
    "delta_1 = np.mean(rel_error < 1.25)\n",
    "delta_2 = np.mean(rel_error < 1.25 ** 2)\n",
    "delta_3 = np.mean(rel_error < 1.25 ** 3)"
   ]
  },
  {
   "cell_type": "code",
   "execution_count": 21,
   "metadata": {},
   "outputs": [
    {
     "name": "stdout",
     "output_type": "stream",
     "text": [
      "delta: 0.721933524906959\n",
      "delta_2: 0.926548367452541\n",
      "delta_3: 0.9802851989520613\n"
     ]
    }
   ],
   "source": [
    "print('delta:', delta_1)\n",
    "print('delta_2:', delta_2)\n",
    "print('delta_3:', delta_3)"
   ]
  }
 ],
 "metadata": {
  "kernelspec": {
   "display_name": "Python 3",
   "language": "python",
   "name": "python3"
  },
  "language_info": {
   "codemirror_mode": {
    "name": "ipython",
    "version": 3
   },
   "file_extension": ".py",
   "mimetype": "text/x-python",
   "name": "python",
   "nbconvert_exporter": "python",
   "pygments_lexer": "ipython3",
   "version": "3.6.7"
  }
 },
 "nbformat": 4,
 "nbformat_minor": 2
}
