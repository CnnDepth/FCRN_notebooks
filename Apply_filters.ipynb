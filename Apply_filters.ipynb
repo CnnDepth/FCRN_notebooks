{
 "cells": [
  {
   "cell_type": "markdown",
   "metadata": {},
   "source": [
    "### Загрузим датасет"
   ]
  },
  {
   "cell_type": "code",
   "execution_count": 1,
   "metadata": {},
   "outputs": [],
   "source": [
    "import h5py\n",
    "import os\n",
    "import numpy as np\n",
    "import matplotlib.pyplot as plt\n",
    "%matplotlib inline"
   ]
  },
  {
   "cell_type": "code",
   "execution_count": 2,
   "metadata": {},
   "outputs": [],
   "source": [
    "dataset = h5py.File('/home/kmouraviev/NYU_dataset_hdf5/data.hdf5', 'r')\n",
    "rgbs = dataset['data']\n",
    "depths = dataset['label']"
   ]
  },
  {
   "cell_type": "code",
   "execution_count": 3,
   "metadata": {},
   "outputs": [],
   "source": [
    "rgbs = np.array(rgbs)\n",
    "depths = np.array(depths)"
   ]
  },
  {
   "cell_type": "code",
   "execution_count": 4,
   "metadata": {},
   "outputs": [],
   "source": [
    "sample_ids = np.random.choice(np.arange(len(rgbs)), size=1000, replace=False)\n",
    "rgbs_sample = rgbs[sample_ids]\n",
    "depths_sample = depths[sample_ids]"
   ]
  },
  {
   "cell_type": "code",
   "execution_count": 5,
   "metadata": {},
   "outputs": [],
   "source": [
    "rgbs_train = rgbs[:40000]\n",
    "depths_train = depths[:40000]\n",
    "rgbs_val = rgbs[40000:]\n",
    "depths_val = depths[40000:]"
   ]
  },
  {
   "cell_type": "markdown",
   "metadata": {},
   "source": [
    "### Получим предсказанные нейросетью глубины"
   ]
  },
  {
   "cell_type": "code",
   "execution_count": 6,
   "metadata": {},
   "outputs": [
    {
     "name": "stderr",
     "output_type": "stream",
     "text": [
      "Using TensorFlow backend.\n"
     ]
    }
   ],
   "source": [
    "import tensorflow as tf\n",
    "from keras.backend.tensorflow_backend import set_session\n",
    "config = tf.ConfigProto()\n",
    "config.gpu_options.per_process_gpu_memory_fraction = 0.15\n",
    "set_session(tf.Session(config=config))"
   ]
  },
  {
   "cell_type": "code",
   "execution_count": 7,
   "metadata": {},
   "outputs": [],
   "source": [
    "from keras.models import load_model\n",
    "model = load_model('/home/kmouraviev/FCRN_notebooks/experiment1_weights/all_layers_trained.hdf5')"
   ]
  },
  {
   "cell_type": "code",
   "execution_count": 8,
   "metadata": {},
   "outputs": [],
   "source": [
    "depths_sample_predicted = model.predict(rgbs_sample)"
   ]
  },
  {
   "cell_type": "markdown",
   "metadata": {},
   "source": [
    "## Bilateral Inception"
   ]
  },
  {
   "cell_type": "markdown",
   "metadata": {},
   "source": [
    "Алгоритм взят из статьи https://pdfs.semanticscholar.org/727d/31a2838a67955d213bb4e1b72d19812877e7.pdf\n",
    "\n",
    "Сначала попробуем в качестве суперпикселей использовать просто квадраты 7х7. В качестве фичей - координаты и саму глубину."
   ]
  },
  {
   "cell_type": "markdown",
   "metadata": {},
   "source": [
    "### Зададим переменные фильтра"
   ]
  },
  {
   "cell_type": "code",
   "execution_count": 9,
   "metadata": {},
   "outputs": [],
   "source": [
    "feature_plh = tf.placeholder(tf.float32, shape=(None, 1024, 3))\n",
    "z_plh = tf.placeholder(tf.float32, shape=(None, 1024, 1))\n",
    "gt_plh = tf.placeholder(tf.float32, shape=(None, 1024, 1))"
   ]
  },
  {
   "cell_type": "code",
   "execution_count": 10,
   "metadata": {},
   "outputs": [],
   "source": [
    "Lambda = tf.Variable(np.eye(3), dtype=tf.float32, trainable=True)\n",
    "theta = tf.Variable([1], dtype=tf.float32, trainable=True)"
   ]
  },
  {
   "cell_type": "code",
   "execution_count": 11,
   "metadata": {},
   "outputs": [],
   "source": [
    "Lf = tf.einsum('ijk,kl->ijl', feature_plh, tf.transpose(Lambda))"
   ]
  },
  {
   "cell_type": "code",
   "execution_count": 24,
   "metadata": {},
   "outputs": [],
   "source": [
    "# D_ij = ||Lf_i - Lf_j||^2\n",
    "lf1_tiled = tf.tile(tf.expand_dims(Lf, axis=1), [1, 1024, 1, 1])\n",
    "lf2_tiled = tf.tile(tf.expand_dims(Lf, axis=2), [1, 1, 1024, 1])\n",
    "D = tf.reduce_sum((lf1_tiled - lf2_tiled) ** 2, axis=-1)"
   ]
  },
  {
   "cell_type": "code",
   "execution_count": 26,
   "metadata": {},
   "outputs": [],
   "source": [
    "K = tf.nn.softmax(theta * D, axis=2)"
   ]
  },
  {
   "cell_type": "code",
   "execution_count": 27,
   "metadata": {
    "scrolled": true
   },
   "outputs": [],
   "source": [
    "z_new = tf.einsum('ijk,ikl->ijl', K, z_plh)"
   ]
  },
  {
   "cell_type": "markdown",
   "metadata": {},
   "source": [
    "### Зададим оптимизатор"
   ]
  },
  {
   "cell_type": "code",
   "execution_count": 28,
   "metadata": {},
   "outputs": [
    {
     "name": "stdout",
     "output_type": "stream",
     "text": [
      "()\n"
     ]
    }
   ],
   "source": [
    "loss = tf.losses.mean_squared_error(z_new, gt_plh)\n",
    "optimizer = tf.train.AdamOptimizer(1e-4)\n",
    "train_step = optimizer.minimize(loss, var_list=[Lambda, theta])"
   ]
  },
  {
   "cell_type": "markdown",
   "metadata": {},
   "source": [
    "### Создадим обучающую выборку"
   ]
  },
  {
   "cell_type": "code",
   "execution_count": 30,
   "metadata": {},
   "outputs": [],
   "source": [
    "def extract_superpixels(image):\n",
    "    superpixels = []\n",
    "    for i in range(0, image.shape[0], 7):\n",
    "        for j in range(0, image.shape[0], 7):\n",
    "            superpixels.append(image[i:i+7, j:j+7].mean())\n",
    "    return np.array(superpixels)"
   ]
  },
  {
   "cell_type": "code",
   "execution_count": 31,
   "metadata": {},
   "outputs": [],
   "source": [
    "def extract_features(image):\n",
    "    features = []\n",
    "    for i in range(0, image.shape[0], 7):\n",
    "        for j in range(0, image.shape[0], 7):\n",
    "            features.append([i + 4, j + 4, image[i:i+7, j:j+7].mean()])\n",
    "    return np.array(features)"
   ]
  },
  {
   "cell_type": "code",
   "execution_count": 32,
   "metadata": {},
   "outputs": [],
   "source": [
    "from tqdm import tqdm_notebook"
   ]
  },
  {
   "cell_type": "code",
   "execution_count": 33,
   "metadata": {},
   "outputs": [
    {
     "data": {
      "application/vnd.jupyter.widget-view+json": {
       "model_id": "eaf84d25d0f6451ea26dc4af0394248c",
       "version_major": 2,
       "version_minor": 0
      },
      "text/plain": [
       "HBox(children=(IntProgress(value=0, max=1000), HTML(value='')))"
      ]
     },
     "metadata": {},
     "output_type": "display_data"
    },
    {
     "name": "stdout",
     "output_type": "stream",
     "text": [
      "\n"
     ]
    },
    {
     "data": {
      "application/vnd.jupyter.widget-view+json": {
       "model_id": "8fbc5b69a4a84044a9eeb2fdc4c900fc",
       "version_major": 2,
       "version_minor": 0
      },
      "text/plain": [
       "HBox(children=(IntProgress(value=0, max=1000), HTML(value='')))"
      ]
     },
     "metadata": {},
     "output_type": "display_data"
    },
    {
     "name": "stdout",
     "output_type": "stream",
     "text": [
      "\n"
     ]
    },
    {
     "data": {
      "application/vnd.jupyter.widget-view+json": {
       "model_id": "a44335ebfbf349b4a544951ac4af508d",
       "version_major": 2,
       "version_minor": 0
      },
      "text/plain": [
       "HBox(children=(IntProgress(value=0, max=1000), HTML(value='')))"
      ]
     },
     "metadata": {},
     "output_type": "display_data"
    },
    {
     "name": "stdout",
     "output_type": "stream",
     "text": [
      "\n"
     ]
    }
   ],
   "source": [
    "prediction_superpixels = np.array([extract_superpixels(image) for image in tqdm_notebook(depths_sample_predicted)])\n",
    "gt_superpixels = np.array([extract_superpixels(image) for image in tqdm_notebook(depths_sample)])\n",
    "prediction_features = np.array([extract_features(image) for image in tqdm_notebook(depths_sample_predicted)])"
   ]
  },
  {
   "cell_type": "code",
   "execution_count": 34,
   "metadata": {},
   "outputs": [],
   "source": [
    "prediction_superpixels = prediction_superpixels[:, :, np.newaxis]\n",
    "gt_superpixels = gt_superpixels[:, :, np.newaxis]"
   ]
  },
  {
   "cell_type": "code",
   "execution_count": 35,
   "metadata": {},
   "outputs": [
    {
     "name": "stdout",
     "output_type": "stream",
     "text": [
      "(1000, 1024, 1) (1000, 1024, 1) (1000, 1024, 3)\n"
     ]
    }
   ],
   "source": [
    "print(prediction_superpixels.shape, gt_superpixels.shape, prediction_features.shape)"
   ]
  },
  {
   "cell_type": "markdown",
   "metadata": {},
   "source": [
    "### Запустим обучение"
   ]
  },
  {
   "cell_type": "code",
   "execution_count": 36,
   "metadata": {},
   "outputs": [],
   "source": [
    "sess = tf.Session()\n",
    "sess.run(tf.global_variables_initializer())"
   ]
  },
  {
   "cell_type": "code",
   "execution_count": 37,
   "metadata": {},
   "outputs": [],
   "source": [
    "from tqdm import tqdm"
   ]
  },
  {
   "cell_type": "code",
   "execution_count": 43,
   "metadata": {},
   "outputs": [],
   "source": [
    "BATCH_SIZE = 16"
   ]
  },
  {
   "cell_type": "code",
   "execution_count": 44,
   "metadata": {},
   "outputs": [
    {
     "name": "stderr",
     "output_type": "stream",
     "text": [
      "\n",
      "  0%|          | 0/100 [00:00<?, ?it/s]\u001b[A\n",
      "  3%|▎         | 3/100 [00:00<00:04, 24.07it/s]\u001b[A\n",
      "  7%|▋         | 7/100 [00:00<00:03, 26.05it/s]\u001b[A\n",
      " 10%|█         | 10/100 [00:00<00:03, 25.16it/s]\u001b[A\n",
      " 14%|█▍        | 14/100 [00:00<00:03, 26.79it/s]\u001b[A\n",
      " 17%|█▋        | 17/100 [00:00<00:03, 25.76it/s]\u001b[A\n",
      " 21%|██        | 21/100 [00:00<00:02, 27.38it/s]\u001b[A\n",
      " 24%|██▍       | 24/100 [00:00<00:02, 26.48it/s]\u001b[A\n",
      " 27%|██▋       | 27/100 [00:00<00:02, 27.20it/s]\u001b[A\n",
      " 31%|███       | 31/100 [00:01<00:02, 27.27it/s]\u001b[A\n",
      " 34%|███▍      | 34/100 [00:01<00:02, 27.59it/s]\u001b[A\n",
      " 37%|███▋      | 37/100 [00:01<00:02, 28.02it/s]\u001b[A\n",
      " 40%|████      | 40/100 [00:01<00:02, 26.92it/s]\u001b[A\n",
      " 44%|████▍     | 44/100 [00:01<00:02, 27.82it/s]\u001b[A\n",
      " 47%|████▋     | 47/100 [00:01<00:01, 26.97it/s]\u001b[A\n",
      " 51%|█████     | 51/100 [00:01<00:01, 27.19it/s]\u001b[A\n",
      " 54%|█████▍    | 54/100 [00:01<00:01, 27.34it/s]\u001b[A\n",
      " 58%|█████▊    | 58/100 [00:02<00:01, 27.28it/s]\u001b[A\n",
      " 61%|██████    | 61/100 [00:02<00:01, 27.80it/s]\u001b[A\n",
      " 64%|██████▍   | 64/100 [00:02<00:01, 27.91it/s]\u001b[A\n",
      " 67%|██████▋   | 67/100 [00:02<00:01, 27.05it/s]\u001b[A\n",
      " 71%|███████   | 71/100 [00:02<00:01, 27.55it/s]\u001b[A\n",
      " 74%|███████▍  | 74/100 [00:02<00:00, 27.23it/s]\u001b[A\n",
      " 78%|███████▊  | 78/100 [00:02<00:00, 27.22it/s]\u001b[A\n",
      " 81%|████████  | 81/100 [00:02<00:00, 27.31it/s]\u001b[A\n",
      " 84%|████████▍ | 84/100 [00:03<00:00, 27.78it/s]\u001b[A\n",
      " 87%|████████▋ | 87/100 [00:03<00:00, 26.63it/s]\u001b[A\n",
      " 91%|█████████ | 91/100 [00:03<00:00, 27.28it/s]\u001b[A\n",
      " 94%|█████████▍| 94/100 [00:03<00:00, 26.99it/s]\u001b[A\n",
      " 98%|█████████▊| 98/100 [00:03<00:00, 26.96it/s]\u001b[A\n",
      "100%|██████████| 100/100 [00:03<00:00, 27.36it/s]\u001b[A"
     ]
    }
   ],
   "source": [
    "loss_history = []\n",
    "for i in tqdm(range(100)):\n",
    "    ids = np.random.choice(np.arange(len(depths_sample)), size=BATCH_SIZE, replace=False)\n",
    "    features = prediction_features[ids]\n",
    "    gt = gt_superpixels[ids]\n",
    "    prediction = prediction_superpixels[ids]\n",
    "    feed_dict = {feature_plh: features,\n",
    "                z_plh: prediction,\n",
    "                gt_plh: gt\n",
    "               }\n",
    "    sess.run(train_step, feed_dict=feed_dict)\n",
    "    loss_value = sess.run(loss, feed_dict=feed_dict)\n",
    "    loss_history.append(loss_value)"
   ]
  },
  {
   "cell_type": "code",
   "execution_count": 45,
   "metadata": {},
   "outputs": [],
   "source": [
    "import matplotlib.pyplot as plt\n",
    "%matplotlib inline"
   ]
  },
  {
   "cell_type": "code",
   "execution_count": 46,
   "metadata": {},
   "outputs": [
    {
     "data": {
      "text/plain": [
       "[<matplotlib.lines.Line2D at 0x3ff6114230f0>]"
      ]
     },
     "execution_count": 46,
     "metadata": {},
     "output_type": "execute_result"
    },
    {
     "data": {
      "image/png": "[encoded data removed]",
      "text/plain": [
       "<Figure size 432x288 with 1 Axes>"
      ]
     },
     "metadata": {
      "needs_background": "light"
     },
     "output_type": "display_data"
    }
   ],
   "source": [
    "plt.plot(loss_history)"
   ]
  },
  {
   "cell_type": "code",
   "execution_count": null,
   "metadata": {},
   "outputs": [],
   "source": []
  }
 ],
 "metadata": {
  "kernelspec": {
   "display_name": "Python 3",
   "language": "python",
   "name": "python3"
  },
  "language_info": {
   "codemirror_mode": {
    "name": "ipython",
    "version": 3
   },
   "file_extension": ".py",
   "mimetype": "text/x-python",
   "name": "python",
   "nbconvert_exporter": "python",
   "pygments_lexer": "ipython3",
   "version": "3.6.7"
  }
 },
 "nbformat": 4,
 "nbformat_minor": 2
}
