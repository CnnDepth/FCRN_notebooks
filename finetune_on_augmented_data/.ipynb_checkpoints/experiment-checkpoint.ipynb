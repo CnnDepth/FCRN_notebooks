{
 "cells": [
  {
   "cell_type": "markdown",
   "metadata": {},
   "source": [
    "# Эксперимент с обучением FCRN на малом датасете, random crop"
   ]
  },
  {
   "cell_type": "markdown",
   "metadata": {},
   "source": [
    "## Создание модели"
   ]
  },
  {
   "cell_type": "code",
   "execution_count": 1,
   "metadata": {},
   "outputs": [
    {
     "name": "stderr",
     "output_type": "stream",
     "text": [
      "Using TensorFlow backend.\n"
     ]
    }
   ],
   "source": [
    "import tensorflow as tf\n",
    "from keras.backend.tensorflow_backend import set_session\n",
    "config = tf.ConfigProto()\n",
    "config.gpu_options.per_process_gpu_memory_fraction = 0.8\n",
    "set_session(tf.Session(config=config))"
   ]
  },
  {
   "cell_type": "code",
   "execution_count": 2,
   "metadata": {},
   "outputs": [],
   "source": [
    "import tensorflow as tf\n",
    "import keras\n",
    "import numpy as np\n",
    "import os\n",
    "import h5py"
   ]
  },
  {
   "cell_type": "code",
   "execution_count": 3,
   "metadata": {},
   "outputs": [],
   "source": [
    "from scipy import ndimage"
   ]
  },
  {
   "cell_type": "code",
   "execution_count": 4,
   "metadata": {},
   "outputs": [],
   "source": [
    "from keras.applications.resnet50 import ResNet50, preprocess_input\n",
    "from keras.preprocessing import image"
   ]
  },
  {
   "cell_type": "code",
   "execution_count": 5,
   "metadata": {},
   "outputs": [],
   "source": [
    "from keras.layers import *\n",
    "from keras.models import Model, load_model\n",
    "from keras.optimizers import Adam\n",
    "from keras.utils import multi_gpu_model\n",
    "from keras.callbacks import LambdaCallback"
   ]
  },
  {
   "cell_type": "code",
   "execution_count": 6,
   "metadata": {},
   "outputs": [],
   "source": [
    "os.environ[\"HDF5_USE_FILE_LOCKING\"] = \"FALSE\""
   ]
  },
  {
   "cell_type": "markdown",
   "metadata": {},
   "source": [
    "## Загрузка датасета"
   ]
  },
  {
   "cell_type": "code",
   "execution_count": 8,
   "metadata": {},
   "outputs": [],
   "source": [
    "import h5py"
   ]
  },
  {
   "cell_type": "code",
   "execution_count": 9,
   "metadata": {},
   "outputs": [],
   "source": [
    "import numpy as np"
   ]
  },
  {
   "cell_type": "code",
   "execution_count": 10,
   "metadata": {
    "scrolled": true
   },
   "outputs": [
    {
     "name": "stdout",
     "output_type": "stream",
     "text": [
      "FALSE\r\n"
     ]
    }
   ],
   "source": [
    "!echo $HDF5_USE_FILE_LOCKING"
   ]
  },
  {
   "cell_type": "code",
   "execution_count": 11,
   "metadata": {},
   "outputs": [],
   "source": [
    "try:\n",
    "    data_file.close()\n",
    "except:\n",
    "    pass\n",
    "data_file = h5py.File('/home/kmouraviev/NYU_dataset_hdf5/data_augmented.hdf5', 'r')\n",
    "rgbs_train = data_file['data']\n",
    "depths_train = data_file['label']"
   ]
  },
  {
   "cell_type": "code",
   "execution_count": 12,
   "metadata": {},
   "outputs": [],
   "source": [
    "try:\n",
    "    val_data_file.close()\n",
    "except:\n",
    "    pass\n",
    "val_data_file = h5py.File('/home/kmouraviev/NYU_dataset_hdf5/data.hdf5', 'r')\n",
    "rgbs_val = val_data_file['data']\n",
    "depths_val = val_data_file['label']\n",
    "ids = np.random.choice(np.arange(len(rgbs_val)), size=10000, replace=False)\n",
    "rgbs_val = np.array(rgbs_val)[ids]\n",
    "depths_val = np.array(depths_val)[ids]"
   ]
  },
  {
   "cell_type": "code",
   "execution_count": 13,
   "metadata": {},
   "outputs": [],
   "source": [
    "rgbs_train = np.array(rgbs_train)\n",
    "depths_train = np.array(depths_train)\n",
    "rgbs_val = np.array(rgbs_val)\n",
    "depths_val = np.array(depths_val)"
   ]
  },
  {
   "cell_type": "code",
   "execution_count": 14,
   "metadata": {},
   "outputs": [
    {
     "name": "stdout",
     "output_type": "stream",
     "text": [
      "(94235, 224, 224, 3) (94235, 224, 224)\n",
      "(10000, 224, 224, 3) (10000, 224, 224)\n"
     ]
    }
   ],
   "source": [
    "print(rgbs_train.shape, depths_train.shape)\n",
    "print(rgbs_val.shape, depths_val.shape)"
   ]
  },
  {
   "cell_type": "markdown",
   "metadata": {},
   "source": [
    "## Fine-tuning модели из experiment1_weights на искаженном датасете"
   ]
  },
  {
   "cell_type": "raw",
   "metadata": {},
   "source": [
    "import keras.backend as K\n",
    "K.clear_session()"
   ]
  },
  {
   "cell_type": "code",
   "execution_count": 15,
   "metadata": {
    "scrolled": false
   },
   "outputs": [],
   "source": [
    "fcrn_model = load_model('/home/kmouraviev/FCRN_notebooks/experiment1_weights/all_layers_trained.hdf5')"
   ]
  },
  {
   "cell_type": "code",
   "execution_count": 16,
   "metadata": {},
   "outputs": [],
   "source": [
    "def unfreeze_layers_after(layer_name):\n",
    "    trainability = []\n",
    "    after_layer = False\n",
    "    for layer in fcrn_model.layers:\n",
    "        trainability.append(after_layer)\n",
    "        if layer.name == layer_name:\n",
    "            after_layer = True\n",
    "    assert after_layer\n",
    "    return trainability"
   ]
  },
  {
   "cell_type": "code",
   "execution_count": 17,
   "metadata": {},
   "outputs": [],
   "source": [
    "first_stage_params = {\n",
    "    'optimizer': Adam(lr=3e-5, decay=1e-3),\n",
    "    'batch_size': 128,\n",
    "    'trainable_layers': unfreeze_layers_after('add_12'),\n",
    "    'epochs': 3,\n",
    "    'generator': None\n",
    "}"
   ]
  },
  {
   "cell_type": "code",
   "execution_count": 18,
   "metadata": {},
   "outputs": [],
   "source": [
    "second_stage_params = {\n",
    "    'optimizer': Adam(lr=1e-5, decay=1e-3),\n",
    "    'batch_size': 64,\n",
    "    'trainable_layers': unfreeze_layers_after('add_6'),\n",
    "    'epochs': 2,\n",
    "    'generator': None\n",
    "}"
   ]
  },
  {
   "cell_type": "code",
   "execution_count": 19,
   "metadata": {},
   "outputs": [],
   "source": [
    "third_stage_params = {\n",
    "    'optimizer': Adam(lr=5e-6, decay=1e-3),\n",
    "    'batch_size': 64,\n",
    "    'trainable_layers': [True] * len(fcrn_model.layers),\n",
    "    'epochs': 1,\n",
    "    'generator': None\n",
    "}"
   ]
  },
  {
   "cell_type": "code",
   "execution_count": 20,
   "metadata": {},
   "outputs": [],
   "source": [
    "params_list = [first_stage_params, second_stage_params, third_stage_params]"
   ]
  },
  {
   "cell_type": "code",
   "execution_count": 21,
   "metadata": {},
   "outputs": [],
   "source": [
    "from experiment_utils.training import train_model\n",
    "from experiment_utils.callbacks import LoggingCallback"
   ]
  },
  {
   "cell_type": "code",
   "execution_count": 22,
   "metadata": {},
   "outputs": [],
   "source": [
    "save_dir = '/home/kmouraviev/FCRN_notebooks/finetune_on_augmented_data'\n",
    "callback = LoggingCallback(fcrn_model, save_dir).get_callback()"
   ]
  },
  {
   "cell_type": "code",
   "execution_count": 23,
   "metadata": {},
   "outputs": [
    {
     "name": "stdout",
     "output_type": "stream",
     "text": [
      "Train on 94235 samples, validate on 10000 samples\n",
      "Epoch 1/3\n",
      "94235/94235 [==============================] - 480s 5ms/step - loss: 1.0058 - val_loss: 0.4403\n",
      "Epoch 2/3\n",
      "94235/94235 [==============================] - 444s 5ms/step - loss: 0.6906 - val_loss: 0.3895\n",
      "Epoch 3/3\n",
      "94235/94235 [==============================] - 445s 5ms/step - loss: 0.5747 - val_loss: 0.3650\n",
      "Train on 94235 samples, validate on 10000 samples\n",
      "Epoch 1/2\n",
      "94235/94235 [==============================] - 651s 7ms/step - loss: 0.6173 - val_loss: 0.3934\n",
      "Epoch 2/2\n",
      "94235/94235 [==============================] - 592s 6ms/step - loss: 0.5434 - val_loss: 0.3958\n",
      "Train on 94235 samples, validate on 10000 samples\n",
      "Epoch 1/1\n",
      "94235/94235 [==============================] - 714s 8ms/step - loss: 0.5119 - val_loss: 0.3906\n"
     ]
    }
   ],
   "source": [
    "train_model(fcrn_model,\n",
    "            save_dir,\n",
    "            params_list,\n",
    "            callback,\n",
    "            rgbs_train, depths_train,\n",
    "            rgbs_val, depths_val\n",
    "           )"
   ]
  },
  {
   "cell_type": "markdown",
   "metadata": {},
   "source": [
    "## Графики обучения"
   ]
  },
  {
   "cell_type": "code",
   "execution_count": 35,
   "metadata": {},
   "outputs": [],
   "source": [
    "val_losses = np.loadtxt(os.path.join(save_dir, 'val_losses.txt'))"
   ]
  },
  {
   "cell_type": "code",
   "execution_count": 53,
   "metadata": {},
   "outputs": [],
   "source": [
    "total_train_losses = []\n",
    "steps_on_epoch = []\n",
    "for epoch in range(6):\n",
    "    train_losses = np.loadtxt(os.path.join(save_dir, 'losses_on_epoch' + str(epoch + 1) + '.txt'))\n",
    "    steps_on_epoch.append(len(train_losses))\n",
    "    total_train_losses += list(train_losses)\n",
    "total_tarin_losses = np.array(total_train_losses)"
   ]
  },
  {
   "cell_type": "code",
   "execution_count": 54,
   "metadata": {},
   "outputs": [],
   "source": [
    "def running_mean(x, n):\n",
    "    cumsum = np.cumsum(x)\n",
    "    return (cumsum[n:] - cumsum[:-n]) / n"
   ]
  },
  {
   "cell_type": "code",
   "execution_count": 55,
   "metadata": {},
   "outputs": [],
   "source": [
    "import matplotlib.pyplot as plt\n",
    "%matplotlib inline"
   ]
  },
  {
   "cell_type": "code",
   "execution_count": 58,
   "metadata": {},
   "outputs": [
    {
     "data": {
      "text/plain": [
       "Text(0, 0.5, 'MSE')"
      ]
     },
     "execution_count": 58,
     "metadata": {},
     "output_type": "execute_result"
    },
    {
     "data": {
      "image/png": "[encoded data removed]",
      "text/plain": [
       "<Figure size 936x576 with 1 Axes>"
      ]
     },
     "metadata": {
      "needs_background": "light"
     },
     "output_type": "display_data"
    }
   ],
   "source": [
    "plt.figure(figsize=(13, 8))\n",
    "plt.plot(running_mean(total_train_losses, 100), color='g', label='train loss')\n",
    "plt.plot(np.cumsum(steps_on_epoch), val_losses, color='r', label='validation loss')\n",
    "plt.grid(ls=':')\n",
    "plt.ylim((0, 1.5))\n",
    "plt.legend(fontsize=16)\n",
    "plt.xlabel('Step', fontsize=16)\n",
    "plt.ylabel('MSE', fontsize=16)"
   ]
  },
  {
   "cell_type": "code",
   "execution_count": null,
   "metadata": {},
   "outputs": [],
   "source": []
  }
 ],
 "metadata": {
  "kernelspec": {
   "display_name": "Python 3",
   "language": "python",
   "name": "python3"
  },
  "language_info": {
   "codemirror_mode": {
    "name": "ipython",
    "version": 3
   },
   "file_extension": ".py",
   "mimetype": "text/x-python",
   "name": "python",
   "nbconvert_exporter": "python",
   "pygments_lexer": "ipython3",
   "version": "3.6.7"
  }
 },
 "nbformat": 4,
 "nbformat_minor": 2
}
