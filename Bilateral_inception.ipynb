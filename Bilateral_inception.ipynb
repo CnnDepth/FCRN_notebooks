{
 "cells": [
  {
   "cell_type": "code",
   "execution_count": 1,
   "metadata": {},
   "outputs": [],
   "source": [
    "import h5py\n",
    "import os\n",
    "import numpy as np\n",
    "import matplotlib.pyplot as plt\n",
    "%matplotlib inline"
   ]
  },
  {
   "cell_type": "code",
   "execution_count": 2,
   "metadata": {},
   "outputs": [],
   "source": [
    "from tqdm import tqdm, tqdm_notebook\n",
    "import tensorflow as tf"
   ]
  },
  {
   "cell_type": "markdown",
   "metadata": {},
   "source": [
    "## Bilateral Inception"
   ]
  },
  {
   "cell_type": "markdown",
   "metadata": {},
   "source": [
    "### Модель"
   ]
  },
  {
   "cell_type": "code",
   "execution_count": 3,
   "metadata": {},
   "outputs": [],
   "source": [
    "class BilateralFilter():\n",
    "    \n",
    "    def __init__(self):\n",
    "        # Trainable variables: transformation matrix Lambda and scale parameter theta\n",
    "        self.Lambda = tf.Variable(np.eye(3), dtype=tf.float64, trainable=True)\n",
    "        self.theta = tf.Variable([1], dtype=tf.float64, trainable=True)\n",
    "        \n",
    "        \n",
    "    def __call__(self, z, features):\n",
    "        \"\"\"\n",
    "        Applies bilateral filter to \n",
    "        Input:\n",
    "        z: superpixels of predicted image - 3d tensor (batch_size, 1024, 1)\n",
    "        features: coordinates and depth of pixels of predicted image - 3d tensor (batch_size, 1024, 3)\n",
    "        \n",
    "        Output:\n",
    "        z_new: superpixels of filtered image - 3d tensor (batch_size, 1024, 1)\n",
    "        \"\"\"\n",
    "        # transform features\n",
    "        Lf = tf.einsum('ijk,kl->ijl', features, tf.transpose(self.Lambda))\n",
    "        lf1_tiled = tf.tile(tf.expand_dims(Lf, axis=1), [1, 1024, 1, 1])\n",
    "        lf2_tiled = tf.tile(tf.expand_dims(Lf, axis=2), [1, 1, 1024, 1])\n",
    "\n",
    "        # compute filter matrix K\n",
    "        D = tf.reduce_sum((lf1_tiled - lf2_tiled) ** 2, axis=-1) # D_ij = ||Lf_i - Lf_j||^2\n",
    "        theta_D = self.theta * D\n",
    "        K = tf.nn.softmax(theta_D, axis=2)\n",
    "        \n",
    "        # the result is transformation of z with matrix K\n",
    "        z_new = tf.einsum('ijk,ikl->ijl', K, z)\n",
    "        return z_new\n",
    "    \n",
    "    \n",
    "    def get_trainables(self):\n",
    "        return [self.Lambda, self.theta]\n",
    "        \n",
    "\n",
    "class BilateralInception():\n",
    "    \n",
    "    def __init__(self, n_filters):\n",
    "        self.n_filters = n_filters\n",
    "        self.weights = tf.Variable(np.ones(6) / 6., dtype=tf.float64)\n",
    "        self.filters = [BilateralFilter() for _ in range(self.n_filters)]\n",
    "        \n",
    "        \n",
    "    def __call__(self, z, features):\n",
    "        \"\"\"\n",
    "        Applies bilateral filter to \n",
    "        Input:\n",
    "        z: superpixels of predicted image - 3d tensor (batch_size, 1024, 1)\n",
    "        features: coordinates and depth of pixels of predicted image - 3d tensor (batch_size, 1024, 3)\n",
    "        \n",
    "        Output:\n",
    "        result: superpixels of filtered image - 3d tensor (batch_size, 1024, 1)\n",
    "        \"\"\"\n",
    "        filter_outputs = [tf.expand_dims(filtr(z, features), 0) for filtr in self.filters]\n",
    "        filter_outputs = tf.concat(filter_outputs, axis=0)\n",
    "        result = tf.reduce_sum(self.weights[:, tf.newaxis, tf.newaxis, tf.newaxis] * filter_outputs, axis=0)\n",
    "        return result\n",
    "    \n",
    "    \n",
    "    def get_trainables(self):\n",
    "        result = []\n",
    "        for filtr in self.filters:\n",
    "            result += filtr.get_trainables()\n",
    "        result.append(self.weights)"
   ]
  },
  {
   "cell_type": "markdown",
   "metadata": {},
   "source": [
    "### Граф вычислений"
   ]
  },
  {
   "cell_type": "code",
   "execution_count": 4,
   "metadata": {},
   "outputs": [],
   "source": [
    "bi_module = BilateralInception(6)"
   ]
  },
  {
   "cell_type": "code",
   "execution_count": 5,
   "metadata": {},
   "outputs": [],
   "source": [
    "z_plh = tf.placeholder(tf.float64, [None, 1024, 1])\n",
    "feature_plh = tf.placeholder(tf.float64, [None, 1024, 3])\n",
    "gt_plh = tf.placeholder(tf.float64, [None, 1024, 1])"
   ]
  },
  {
   "cell_type": "code",
   "execution_count": 6,
   "metadata": {},
   "outputs": [],
   "source": [
    "z_filtered = bi_module(z_plh, feature_plh)\n",
    "loss = tf.losses.mean_squared_error(z_filtered, gt_plh)"
   ]
  },
  {
   "cell_type": "code",
   "execution_count": 7,
   "metadata": {},
   "outputs": [],
   "source": [
    "optimizer = tf.train.AdamOptimizer(learning_rate=1e-3)\n",
    "train_step = optimizer.minimize(loss)"
   ]
  },
  {
   "cell_type": "markdown",
   "metadata": {},
   "source": [
    "## Датасет"
   ]
  },
  {
   "cell_type": "code",
   "execution_count": 8,
   "metadata": {},
   "outputs": [],
   "source": [
    "dataset = h5py.File('/home/kmouraviev/NYU_dataset_hdf5/data.hdf5', 'r')\n",
    "rgbs = dataset['data']\n",
    "depths = dataset['label']"
   ]
  },
  {
   "cell_type": "code",
   "execution_count": 9,
   "metadata": {},
   "outputs": [],
   "source": [
    "rgbs = np.array(rgbs)\n",
    "depths = np.array(depths)"
   ]
  },
  {
   "cell_type": "code",
   "execution_count": 10,
   "metadata": {},
   "outputs": [],
   "source": [
    "sample_ids = np.random.choice(np.arange(len(rgbs)), size=1000, replace=False)\n",
    "rgbs_sample = rgbs[sample_ids]\n",
    "depths_sample = depths[sample_ids]"
   ]
  },
  {
   "cell_type": "code",
   "execution_count": 11,
   "metadata": {},
   "outputs": [],
   "source": [
    "rgbs_train = rgbs[:40000]\n",
    "depths_train = depths[:40000]\n",
    "rgbs_val = rgbs[40000:]\n",
    "depths_val = depths[40000:]"
   ]
  },
  {
   "cell_type": "code",
   "execution_count": 12,
   "metadata": {},
   "outputs": [
    {
     "name": "stderr",
     "output_type": "stream",
     "text": [
      "Using TensorFlow backend.\n"
     ]
    }
   ],
   "source": [
    "from keras.models import load_model\n",
    "model = load_model('/home/kmouraviev/FCRN_notebooks/finetune_sgd_lr1e-05_decay1e-05/model_on_epoch1.hdf5')"
   ]
  },
  {
   "cell_type": "code",
   "execution_count": 13,
   "metadata": {},
   "outputs": [],
   "source": [
    "depths_predicted = model.predict(rgbs_train, batch_size=32)"
   ]
  },
  {
   "cell_type": "code",
   "execution_count": 14,
   "metadata": {},
   "outputs": [],
   "source": [
    "MAX_DEPTH = 10"
   ]
  },
  {
   "cell_type": "code",
   "execution_count": 15,
   "metadata": {},
   "outputs": [],
   "source": [
    "def extract_superpixels(image):\n",
    "    superpixels = []\n",
    "    for i in range(0, image.shape[0], 7):\n",
    "        for j in range(0, image.shape[0], 7):\n",
    "            superpixels.append(image[i:i+7, j:j+7].mean() / MAX_DEPTH)\n",
    "    return np.array(superpixels)"
   ]
  },
  {
   "cell_type": "code",
   "execution_count": 16,
   "metadata": {},
   "outputs": [],
   "source": [
    "def extract_features(image):\n",
    "    features = []\n",
    "    for i in range(0, image.shape[0], 7):\n",
    "        for j in range(0, image.shape[0], 7):\n",
    "            features.append([(i + 4) / image.shape[0], \\\n",
    "                             (j + 4) / image.shape[1], \\\n",
    "                             image[i:i+7, j:j+7].mean() / MAX_DEPTH])\n",
    "    return np.array(features)"
   ]
  },
  {
   "cell_type": "code",
   "execution_count": 17,
   "metadata": {
    "collapsed": true
   },
   "outputs": [
    {
     "data": {
      "application/vnd.jupyter.widget-view+json": {
       "model_id": "3dcb5237e1d54b6b846de6b4c4a0d6ee",
       "version_major": 2,
       "version_minor": 0
      },
      "text/plain": [
       "HBox(children=(IntProgress(value=0, max=40000), HTML(value='')))"
      ]
     },
     "metadata": {},
     "output_type": "display_data"
    },
    {
     "name": "stdout",
     "output_type": "stream",
     "text": [
      "\n"
     ]
    },
    {
     "data": {
      "application/vnd.jupyter.widget-view+json": {
       "model_id": "4b1666f2fde642f0b158c69113036799",
       "version_major": 2,
       "version_minor": 0
      },
      "text/plain": [
       "HBox(children=(IntProgress(value=0, max=40000), HTML(value='')))"
      ]
     },
     "metadata": {},
     "output_type": "display_data"
    },
    {
     "name": "stdout",
     "output_type": "stream",
     "text": [
      "\n"
     ]
    },
    {
     "data": {
      "application/vnd.jupyter.widget-view+json": {
       "model_id": "79289665ad42439fa4f6f063b4dd2682",
       "version_major": 2,
       "version_minor": 0
      },
      "text/plain": [
       "HBox(children=(IntProgress(value=0, max=40000), HTML(value='')))"
      ]
     },
     "metadata": {},
     "output_type": "display_data"
    },
    {
     "name": "stderr",
     "output_type": "stream",
     "text": [
      "IOPub message rate exceeded.\n",
      "The notebook server will temporarily stop sending output\n",
      "to the client in order to avoid crashing it.\n",
      "To change this limit, set the config variable\n",
      "`--NotebookApp.iopub_msg_rate_limit`.\n",
      "\n",
      "Current values:\n",
      "NotebookApp.iopub_msg_rate_limit=1000.0 (msgs/sec)\n",
      "NotebookApp.rate_limit_window=3.0 (secs)\n",
      "\n",
      "IOPub message rate exceeded.\n",
      "The notebook server will temporarily stop sending output\n",
      "to the client in order to avoid crashing it.\n",
      "To change this limit, set the config variable\n",
      "`--NotebookApp.iopub_msg_rate_limit`.\n",
      "\n",
      "Current values:\n",
      "NotebookApp.iopub_msg_rate_limit=1000.0 (msgs/sec)\n",
      "NotebookApp.rate_limit_window=3.0 (secs)\n",
      "\n"
     ]
    }
   ],
   "source": [
    "prediction_superpixels = np.array([extract_superpixels(image) for image in tqdm_notebook(depths_predicted)])\n",
    "gt_superpixels = np.array([extract_superpixels(image) for image in tqdm_notebook(depths_train)])\n",
    "prediction_features = np.array([extract_features(image) for image in tqdm_notebook(depths_predicted)])"
   ]
  },
  {
   "cell_type": "code",
   "execution_count": 18,
   "metadata": {},
   "outputs": [],
   "source": [
    "prediction_superpixels = prediction_superpixels[:, :, np.newaxis]\n",
    "gt_superpixels = gt_superpixels[:, :, np.newaxis]"
   ]
  },
  {
   "cell_type": "code",
   "execution_count": null,
   "metadata": {},
   "outputs": [
    {
     "name": "stdout",
     "output_type": "stream",
     "text": [
      "(40000, 1024, 1) (40000, 1024, 1) (40000, 1024, 3)\n"
     ]
    }
   ],
   "source": [
    "print(prediction_superpixels.shape, gt_superpixels.shape, prediction_features.shape)"
   ]
  },
  {
   "cell_type": "markdown",
   "metadata": {},
   "source": [
    "## Обучение"
   ]
  },
  {
   "cell_type": "code",
   "execution_count": null,
   "metadata": {},
   "outputs": [],
   "source": [
    "sess = tf.Session()\n",
    "sess.run(tf.global_variables_initializer())"
   ]
  },
  {
   "cell_type": "code",
   "execution_count": null,
   "metadata": {
    "collapsed": true
   },
   "outputs": [
    {
     "data": {
      "application/vnd.jupyter.widget-view+json": {
       "model_id": "f4238108f22c43e885ba980c6f4a1685",
       "version_major": 2,
       "version_minor": 0
      },
      "text/plain": [
       "HBox(children=(IntProgress(value=0, max=50000), HTML(value='')))"
      ]
     },
     "metadata": {},
     "output_type": "display_data"
    },
    {
     "name": "stderr",
     "output_type": "stream",
     "text": [
      "IOPub message rate exceeded.\n",
      "The notebook server will temporarily stop sending output\n",
      "to the client in order to avoid crashing it.\n",
      "To change this limit, set the config variable\n",
      "`--NotebookApp.iopub_msg_rate_limit`.\n",
      "\n",
      "Current values:\n",
      "NotebookApp.iopub_msg_rate_limit=1000.0 (msgs/sec)\n",
      "NotebookApp.rate_limit_window=3.0 (secs)\n",
      "\n",
      "IOPub message rate exceeded.\n",
      "The notebook server will temporarily stop sending output\n",
      "to the client in order to avoid crashing it.\n",
      "To change this limit, set the config variable\n",
      "`--NotebookApp.iopub_msg_rate_limit`.\n",
      "\n",
      "Current values:\n",
      "NotebookApp.iopub_msg_rate_limit=1000.0 (msgs/sec)\n",
      "NotebookApp.rate_limit_window=3.0 (secs)\n",
      "\n",
      "IOPub message rate exceeded.\n",
      "The notebook server will temporarily stop sending output\n",
      "to the client in order to avoid crashing it.\n",
      "To change this limit, set the config variable\n",
      "`--NotebookApp.iopub_msg_rate_limit`.\n",
      "\n",
      "Current values:\n",
      "NotebookApp.iopub_msg_rate_limit=1000.0 (msgs/sec)\n",
      "NotebookApp.rate_limit_window=3.0 (secs)\n",
      "\n"
     ]
    }
   ],
   "source": [
    "BATCH_SIZE = 32\n",
    "loss_history = []\n",
    "for i in tqdm_notebook(np.arange(50000)):\n",
    "    ids = np.random.choice(np.arange(len(depths_train)), size=BATCH_SIZE, replace=False)\n",
    "    features = prediction_features[ids]\n",
    "    gt = gt_superpixels[ids]\n",
    "    prediction = prediction_superpixels[ids]\n",
    "    feed_dict = {feature_plh: features,\n",
    "                z_plh: prediction,\n",
    "                gt_plh: gt\n",
    "               }\n",
    "    loss_value, _ = sess.run([loss, train_step], feed_dict=feed_dict)\n",
    "    loss_history.append(loss_value)"
   ]
  },
  {
   "cell_type": "code",
   "execution_count": null,
   "metadata": {},
   "outputs": [],
   "source": [
    "def running_mean(x, n):\n",
    "    cumsum = np.cumsum(x)\n",
    "    return (cumsum[n:] - cumsum[:-n]) / n"
   ]
  },
  {
   "cell_type": "code",
   "execution_count": 25,
   "metadata": {},
   "outputs": [
    {
     "data": {
      "text/plain": [
       "[<matplotlib.lines.Line2D at 0x3ff5f4edff98>]"
      ]
     },
     "execution_count": 25,
     "metadata": {},
     "output_type": "execute_result"
    },
    {
     "data": {
      "image/png": "[encoded data removed]",
      "text/plain": [
       "<Figure size 432x288 with 1 Axes>"
      ]
     },
     "metadata": {
      "needs_background": "light"
     },
     "output_type": "display_data"
    }
   ],
   "source": [
    "plt.plot(running_mean(loss_history, 1000))"
   ]
  },
  {
   "cell_type": "markdown",
   "metadata": {},
   "source": [
    "## Результаты"
   ]
  },
  {
   "cell_type": "markdown",
   "metadata": {},
   "source": [
    "### Подготовка отфильтрованных изображений на валидационной выборке"
   ]
  },
  {
   "cell_type": "code",
   "execution_count": 26,
   "metadata": {},
   "outputs": [],
   "source": [
    "import scipy.stats as sps\n",
    "\n",
    "def apply_gaussian_filter(source_image,\n",
    "                          filtered_superpixels,\n",
    "                          sigma=7,\n",
    "                          k=5):\n",
    "    image = source_image.copy()\n",
    "    grid_x, grid_y = np.meshgrid(np.arange(-(k // 2), k // 2 + 1),\n",
    "                                 np.arange(-(k // 2), k // 2 + 1))\n",
    "    grid = np.array(list(zip(grid_x.ravel(), grid_y.ravel()))).reshape((k, k, 2))\n",
    "    gaussian_window = sps.multivariate_normal(mean=[0, 0], cov=np.eye(2) * sigma).pdf(grid)\n",
    "    gaussian_window /= gaussian_window.sum()\n",
    "    for n in range(1024):\n",
    "        i = (n // 32) * 7\n",
    "        j = (n % 32) * 7\n",
    "        image[i:i+7, j:j+7] = filtered_superpixels[n]\n",
    "    for i in range(k // 2, source_image.shape[0] - k // 2):\n",
    "        for j in range(k // 2, source_image.shape[1] - k // 2):\n",
    "            image[i, j] = np.sum(image[i - k // 2:i + k // 2 + 1, j - k // 2:j + k // 2 + 1] \\\n",
    "                                 * gaussian_window)\n",
    "    return image"
   ]
  },
  {
   "cell_type": "code",
   "execution_count": 27,
   "metadata": {},
   "outputs": [],
   "source": [
    "SIGMA = 7\n",
    "K = 5\n",
    "\n",
    "def apply_gaussian_filter_parallel(data):\n",
    "    image, superpixels = data\n",
    "    return apply_gaussian_filter(image, superpixels, sigma=SIGMA, k=K)"
   ]
  },
  {
   "cell_type": "code",
   "execution_count": 28,
   "metadata": {},
   "outputs": [
    {
     "name": "stdout",
     "output_type": "stream",
     "text": [
      "16541/16541 [==============================] - 55s 3ms/step\n"
     ]
    }
   ],
   "source": [
    "depths_val_predicted = model.predict(rgbs_val, batch_size=32, verbose=1)"
   ]
  },
  {
   "cell_type": "code",
   "execution_count": 29,
   "metadata": {
    "collapsed": true
   },
   "outputs": [
    {
     "data": {
      "application/vnd.jupyter.widget-view+json": {
       "model_id": "7a00bd98592a4a7a913f60eddcd4efbd",
       "version_major": 2,
       "version_minor": 0
      },
      "text/plain": [
       "HBox(children=(IntProgress(value=0, max=16541), HTML(value='')))"
      ]
     },
     "metadata": {},
     "output_type": "display_data"
    },
    {
     "name": "stdout",
     "output_type": "stream",
     "text": [
      "\n"
     ]
    },
    {
     "data": {
      "application/vnd.jupyter.widget-view+json": {
       "model_id": "53b79b9275ed47ca8d041f3ef5048f38",
       "version_major": 2,
       "version_minor": 0
      },
      "text/plain": [
       "HBox(children=(IntProgress(value=0, max=16541), HTML(value='')))"
      ]
     },
     "metadata": {},
     "output_type": "display_data"
    },
    {
     "name": "stdout",
     "output_type": "stream",
     "text": [
      "\n"
     ]
    },
    {
     "data": {
      "application/vnd.jupyter.widget-view+json": {
       "model_id": "52ee9907b71e4ffdad090d983dcbfc95",
       "version_major": 2,
       "version_minor": 0
      },
      "text/plain": [
       "HBox(children=(IntProgress(value=0, max=16541), HTML(value='')))"
      ]
     },
     "metadata": {},
     "output_type": "display_data"
    },
    {
     "name": "stdout",
     "output_type": "stream",
     "text": [
      "\n"
     ]
    }
   ],
   "source": [
    "prediction_superpixels = np.array([extract_superpixels(image) for image in tqdm_notebook(depths_val_predicted)])\n",
    "gt_superpixels = np.array([extract_superpixels(image) for image in tqdm_notebook(depths_val)])\n",
    "prediction_features = np.array([extract_features(image) for image in tqdm_notebook(depths_val_predicted)])"
   ]
  },
  {
   "cell_type": "code",
   "execution_count": 32,
   "metadata": {},
   "outputs": [
    {
     "data": {
      "application/vnd.jupyter.widget-view+json": {
       "model_id": "982691dcf0dd452d94f047278aa9dc07",
       "version_major": 2,
       "version_minor": 0
      },
      "text/plain": [
       "HBox(children=(IntProgress(value=0, max=517), HTML(value='')))"
      ]
     },
     "metadata": {},
     "output_type": "display_data"
    },
    {
     "name": "stdout",
     "output_type": "stream",
     "text": [
      "\n"
     ]
    }
   ],
   "source": [
    "BATCH_SIZE = 32\n",
    "\n",
    "filtered_batches = []\n",
    "for i in tqdm_notebook(range(0, len(depths_val), BATCH_SIZE)):\n",
    "    superpixels_batch = prediction_superpixels[i:min(i + BATCH_SIZE, len(depths_val))]\n",
    "    features_batch = prediction_features[i:min(i + BATCH_SIZE, len(depths_val))]\n",
    "    filtered_batch = sess.run(z_filtered, feed_dict={feature_plh: features_batch,\n",
    "                                                    z_plh: superpixels_batch[:, :, np.newaxis]}\n",
    "                             )\n",
    "    filtered_batches.append(filtered_batch)"
   ]
  },
  {
   "cell_type": "code",
   "execution_count": 33,
   "metadata": {},
   "outputs": [
    {
     "data": {
      "text/plain": [
       "(16541, 1024, 1)"
      ]
     },
     "execution_count": 33,
     "metadata": {},
     "output_type": "execute_result"
    }
   ],
   "source": [
    "filtered_superpixels = np.concatenate(filtered_batches, axis=0)\n",
    "filtered_superpixels.shape"
   ]
  },
  {
   "cell_type": "code",
   "execution_count": 44,
   "metadata": {},
   "outputs": [],
   "source": [
    "from multiprocessing import Pool\n",
    "pool = Pool(160)\n",
    "filtered_images = pool.map(apply_gaussian_filter_parallel,\n",
    "                           zip(depths_val / 10, filtered_superpixels)\n",
    "                          )"
   ]
  },
  {
   "cell_type": "code",
   "execution_count": 61,
   "metadata": {},
   "outputs": [],
   "source": [
    "filtered_images = np.array(filtered_images)"
   ]
  },
  {
   "cell_type": "code",
   "execution_count": 62,
   "metadata": {},
   "outputs": [
    {
     "data": {
      "text/plain": [
       "(16541, 224, 224)"
      ]
     },
     "execution_count": 62,
     "metadata": {},
     "output_type": "execute_result"
    }
   ],
   "source": [
    "filtered_images.shape"
   ]
  },
  {
   "cell_type": "markdown",
   "metadata": {},
   "source": [
    "### Сравнение качества на валидационной выборке"
   ]
  },
  {
   "cell_type": "code",
   "execution_count": 63,
   "metadata": {},
   "outputs": [
    {
     "name": "stdout",
     "output_type": "stream",
     "text": [
      "MSE of raw images: 0.3616211401499641\n",
      "MSE of filtered images: 0.34023888637559724\n"
     ]
    }
   ],
   "source": [
    "print(\"MSE of raw images:\", np.mean((depths_val_predicted - depths_val) ** 2))\n",
    "print(\"MSE of filtered images:\", np.mean((filtered_images * 10 - depths_val) ** 2))"
   ]
  },
  {
   "cell_type": "code",
   "execution_count": 65,
   "metadata": {},
   "outputs": [
    {
     "name": "stdout",
     "output_type": "stream",
     "text": [
      "log-MSE of raw images: 0.08970439863487457\n",
      "log-MSE of filtered images: 0.07114004677877604\n"
     ]
    }
   ],
   "source": [
    "print(\"log-MSE of raw images:\", np.mean((np.log(depths_val_predicted + 1e-2) - np.log(depths_val + 1e-2)) ** 2))\n",
    "print(\"log-MSE of filtered images:\", \n",
    "      np.mean((np.log(filtered_images * 10 + 1e-2) - np.log(depths_val + 1e-2)) ** 2))"
   ]
  },
  {
   "cell_type": "markdown",
   "metadata": {},
   "source": [
    "### Визуализация"
   ]
  },
  {
   "cell_type": "code",
   "execution_count": 67,
   "metadata": {},
   "outputs": [],
   "source": [
    "def unpreprocess(image):\n",
    "    img_min = -123\n",
    "    img_max = 151\n",
    "    return (image - img_min) / (img_max - img_min)"
   ]
  },
  {
   "cell_type": "code",
   "execution_count": 66,
   "metadata": {},
   "outputs": [],
   "source": [
    "rgbs_to_see = rgbs_val[::200]\n",
    "predictions_to_see = depths_val_predicted[::200]\n",
    "filtered_predictions_to_see = filtered_images[::200] * 10\n",
    "gts_to_see = depths_val[::200]"
   ]
  },
  {
   "cell_type": "code",
   "execution_count": 68,
   "metadata": {},
   "outputs": [
    {
     "name": "stdout",
     "output_type": "stream",
     "text": [
      "(83, 224, 224, 3) (83, 224, 224) (83, 224, 224) (83, 224, 224)\n"
     ]
    }
   ],
   "source": [
    "print(rgbs_to_see.shape, gts_to_see.shape, predictions_to_see.shape, filtered_predictions_to_see.shape)"
   ]
  },
  {
   "cell_type": "code",
   "execution_count": null,
   "metadata": {},
   "outputs": [],
   "source": [
    "n = len(predictions_to_see)\n",
    "plt.figure(figsize=(16, n * 4))\n",
    "for i in range(30):\n",
    "    plt.subplot(n, 4, i * 4 + 1)\n",
    "    plt.title('RGB', fontsize=12)\n",
    "    plt.imshow(unpreprocess(rgbs_to_see[i]))\n",
    "    \n",
    "    plt.subplot(n, 4, i * 4 + 2)\n",
    "    plt.title('Raw prediction', fontsize=12)\n",
    "    plt.imshow(predictions_to_see[i] / 10., cmap='rainbow')\n",
    "    \n",
    "    plt.subplot(n, 4, i * 4 + 3)\n",
    "    plt.title('Filtered prediction', fontsize=12)\n",
    "    plt.imshow(filtered_predictions_to_see[i] / 10., cmap='rainbow')\n",
    "    \n",
    "    plt.subplot(n, 4, i * 4 + 4)\n",
    "    plt.title('Ground truth', fontsize=12)\n",
    "    plt.imshow(gts_to_see[i] / 10., cmap='rainbow')"
   ]
  },
  {
   "cell_type": "code",
   "execution_count": null,
   "metadata": {},
   "outputs": [],
   "source": [
    "n = len(predictions_to_see)\n",
    "plt.figure(figsize=(16, n * 4))\n",
    "for i in range(30, n):\n",
    "    plt.subplot(n, 4, i * 4 + 1)\n",
    "    plt.title('RGB', fontsize=12)\n",
    "    plt.imshow(unpreprocess(rgbs_to_see[i]))\n",
    "    \n",
    "    plt.subplot(n, 4, i * 4 + 2)\n",
    "    plt.title('Raw prediction', fontsize=12)\n",
    "    plt.imshow(predictions_to_see[i] / 10., cmap='rainbow')\n",
    "    \n",
    "    plt.subplot(n, 4, i * 4 + 3)\n",
    "    plt.title('Filtered prediction', fontsize=12)\n",
    "    plt.imshow(filtered_predictions_to_see[i] / 10., cmap='rainbow')\n",
    "    \n",
    "    plt.subplot(n, 4, i * 4 + 4)\n",
    "    plt.title('Ground truth', fontsize=12)\n",
    "    plt.imshow(gts_to_see[i] / 10., cmap='rainbow')"
   ]
  }
 ],
 "metadata": {
  "kernelspec": {
   "display_name": "Python 3",
   "language": "python",
   "name": "python3"
  },
  "language_info": {
   "codemirror_mode": {
    "name": "ipython",
    "version": 3
   },
   "file_extension": ".py",
   "mimetype": "text/x-python",
   "name": "python",
   "nbconvert_exporter": "python",
   "pygments_lexer": "ipython3",
   "version": "3.6.7"
  }
 },
 "nbformat": 4,
 "nbformat_minor": 2
}
